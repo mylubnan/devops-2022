{
 "cells": [
  {
   "cell_type": "code",
   "execution_count": null,
   "id": "b5d75c5d-0379-4b38-a044-dc8b3c6f1a61",
   "metadata": {},
   "outputs": [],
   "source": [
    "!git --version\n",
    "!psql --version\n",
    "!jupyter --version\n",
    "!python -c \"import numpy; print(numpy.__version__)\"\n",
    "!python -c \"import pandas; print(pandas.__version__)\"\n",
    "!ipython --version\n",
    "!pip show psycopg2\n",
    "!cassandra -v\n",
    "!pyspark --version\n",
    "!pip show findspark\n",
    "!pip show kafka-python\n",
    "!airflow version"
   ]
  },
  {
   "cell_type": "code",
   "execution_count": null,
   "id": "1c010e98-2bd5-41a8-9bb3-070e2edd4d69",
   "metadata": {},
   "outputs": [],
   "source": [
    "#  To start service\n",
    "!service postgresql start"
   ]
  },
  {
   "cell_type": "code",
   "execution_count": null,
   "id": "58120d7c-241f-431f-8a26-57a65f9c582a",
   "metadata": {},
   "outputs": [],
   "source": [
    "# Check that it made connection\n",
    "!pg_isready"
   ]
  },
  {
   "cell_type": "code",
   "execution_count": null,
   "id": "196cc6be-627b-4b33-98d2-fe192297064c",
   "metadata": {},
   "outputs": [],
   "source": [
    "## import postgreSQL adapter for the Python\n",
    "import psycopg2\n",
    "conn = psycopg2.connect(\"host=127.0.0.1 dbname=dataengineering user=postgres password=admin\")"
   ]
  },
  {
   "cell_type": "code",
   "execution_count": null,
   "id": "ce9ed7b1-8ba4-45ab-afc8-cd02700a0318",
   "metadata": {},
   "outputs": [],
   "source": [
    "!cassandra"
   ]
  },
  {
   "cell_type": "code",
   "execution_count": null,
   "id": "046598ee-da84-4f24-86d7-e41831c431a2",
   "metadata": {},
   "outputs": [],
   "source": [
    "!cqlsh"
   ]
  },
  {
   "cell_type": "code",
   "execution_count": null,
   "id": "4a0813d0-f3eb-4379-a9c0-0009bb6f1042",
   "metadata": {},
   "outputs": [],
   "source": [
    "from cassandra.cluster import Cluster\n",
    "\n",
    "# Connect to the local Cassandra cluster\n",
    "cluster = Cluster(['localhost'])\n",
    "\n",
    "# Get the Cassandra version from the system.local table\n",
    "session = cluster.connect()\n",
    "rows = session.execute(\"SELECT release_version FROM system.local\")\n",
    "cassandra_version = rows[0][0]\n",
    "\n",
    "print(f\"Cassandra version: {cassandra_version}\")"
   ]
  },
  {
   "cell_type": "code",
   "execution_count": null,
   "id": "a316d7f8-df21-4432-8436-80f931f269f0",
   "metadata": {},
   "outputs": [],
   "source": [
    "#  To start web service then check with the mapping port of Docker\n",
    "!airflow webserver -p 8080"
   ]
  },
  {
   "cell_type": "code",
   "execution_count": null,
   "id": "6333f454",
   "metadata": {},
   "outputs": [],
   "source": [
    "!airflow scheduler"
   ]
  }
 ],
 "metadata": {
  "kernelspec": {
   "display_name": "base",
   "language": "python",
   "name": "python3"
  },
  "language_info": {
   "codemirror_mode": {
    "name": "ipython",
    "version": 3
   },
   "file_extension": ".py",
   "mimetype": "text/x-python",
   "name": "python",
   "nbconvert_exporter": "python",
   "pygments_lexer": "ipython3",
   "version": "3.9.13"
  },
  "vscode": {
   "interpreter": {
    "hash": "b3ace8e35c7b14041b2fae01e1c9c881d0ed1a1c7d93eb41c8163ccbe72f3783"
   }
  }
 },
 "nbformat": 4,
 "nbformat_minor": 5
}
